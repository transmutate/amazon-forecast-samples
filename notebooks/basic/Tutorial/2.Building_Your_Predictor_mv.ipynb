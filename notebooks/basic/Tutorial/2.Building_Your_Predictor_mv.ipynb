{
 "cells": [
  {
   "cell_type": "markdown",
   "metadata": {},
   "source": [
    "# Building Your Predictor\n",
    "\n",
    "The next step after preparing and importing your data via `Getting_Data_Ready.ipynb` is to build your first model.\n",
    "\n",
    "The overall process for this is:\n",
    "\n",
    "* Setup\n",
    "* Create a Predictor\n",
    "* Deploy a Predictor\n",
    "* Obtain a Forecast\n",
    "\n",
    "To get started, simply execute the cells below:\n"
   ]
  },
  {
   "cell_type": "markdown",
   "metadata": {},
   "source": [
    "## Setup\n"
   ]
  },
  {
   "cell_type": "markdown",
   "metadata": {},
   "source": [
    "Import the standard Python Libraries that are used in this lesson."
   ]
  },
  {
   "cell_type": "code",
   "execution_count": 1,
   "metadata": {},
   "outputs": [],
   "source": [
    "import sys\n",
    "import os\n",
    "import time\n",
    "import boto3\n",
    "\n",
    "# importing forecast notebook utility from notebooks/common directory\n",
    "sys.path.insert( 0, os.path.abspath(\"../../common\") )\n",
    "import util"
   ]
  },
  {
   "cell_type": "markdown",
   "metadata": {},
   "source": [
    "The line below will retrieve your shared variables from the first notebook."
   ]
  },
  {
   "cell_type": "code",
   "execution_count": 4,
   "metadata": {},
   "outputs": [],
   "source": [
    "%store -r"
   ]
  },
  {
   "cell_type": "code",
   "execution_count": 6,
   "metadata": {},
   "outputs": [
    {
     "name": "stdout",
     "output_type": "stream",
     "text": [
      "arn:aws:forecast:ap-northeast-2:414501109622:dataset-group/electricity_ds_group3\n",
      "arn:aws:forecast:ap-northeast-2:414501109622:dataset/electricity_demand_ds3\n",
      "arn:aws:iam::414501109622:role/ForecastRole\n",
      "elec_data/item-demand-time-train.csv\n",
      "randombucketname\n",
      "ap-northeast-2\n",
      "arn:aws:forecast:ap-northeast-2:414501109622:dataset-import-job/electricity_demand_ds3/electricity_ds_import_job3\n"
     ]
    }
   ],
   "source": [
    "print(datasetGroupArn)\n",
    "print(datasetArn)\n",
    "print(rolearn)\n",
    "print(key)\n",
    "print(bucket_name)\n",
    "print(region)\n",
    "print(ds_import_job_arn)"
   ]
  },
  {
   "cell_type": "markdown",
   "metadata": {},
   "source": [
    "The last part of the setup process is to validate that your account can communicate with Amazon Forecast, the cell below does just that."
   ]
  },
  {
   "cell_type": "code",
   "execution_count": 7,
   "metadata": {},
   "outputs": [],
   "source": [
    "session = boto3.Session(region_name=region) \n",
    "forecast = session.client(service_name='forecast') \n",
    "forecastquery = session.client(service_name='forecastquery')"
   ]
  },
  {
   "cell_type": "markdown",
   "metadata": {},
   "source": [
    "## Create a Predictor\n",
    "\n",
    "Now in the previous notebook, your data was imported to be used by Forecast, here we will once again define your dataset information and then start building your model or predictor."
   ]
  },
  {
   "cell_type": "markdown",
   "metadata": {},
   "source": [
    "Forecast horizon is the number of number of time points to predicted in the future. For weekly data, a value of 12 means 12 weeks. Our example is hourly data, we try forecast the next day, so we can set to 24."
   ]
  },
  {
   "cell_type": "code",
   "execution_count": null,
   "metadata": {},
   "outputs": [],
   "source": [
    "predictorName= project+'_deeparp_algo'"
   ]
  },
  {
   "cell_type": "code",
   "execution_count": 9,
   "metadata": {},
   "outputs": [],
   "source": [
    "forecastHorizon = 24"
   ]
  },
  {
   "cell_type": "code",
   "execution_count": 12,
   "metadata": {},
   "outputs": [],
   "source": [
    "algorithmArn = 'arn:aws:forecast:::algorithm/Deep_AR_Plus'"
   ]
  },
  {
   "cell_type": "code",
   "execution_count": 13,
   "metadata": {},
   "outputs": [],
   "source": [
    "FeaturizationConfig_dict = \\\n",
    "{\"ForecastFrequency\": \"H\", \n",
    " \"Featurizations\":    [ {\"AttributeName\": \"target_value\", \n",
    "                         \"FeaturizationPipeline\": [ \n",
    "                             {\"FeaturizationMethodName\": \"filling\", \n",
    "                              \"FeaturizationMethodParameters\": {\"frontfill\": \"none\", \n",
    "                                                                \"middlefill\": \"zero\", \n",
    "                                                                \"backfill\": \"zero\"}}\n",
    "                         ]\n",
    "                        }\n",
    "                      ]\n",
    "}"
   ]
  },
  {
   "cell_type": "code",
   "execution_count": 14,
   "metadata": {},
   "outputs": [],
   "source": [
    "create_predictor_response = \\\n",
    "    forecast.create_predictor(\\\n",
    "        PredictorName = \"electricitypredictor3\", \n",
    "        AlgorithmArn = algorithmArn,\n",
    "        InputDataConfig = {\"DatasetGroupArn\": datasetGroupArn},\n",
    "        ForecastHorizon = forecastHorizon,\n",
    "        FeaturizationConfig = FeaturizationConfig_dict,\n",
    "        PerformAutoML= False,\n",
    "        PerformHPO=False,\n",
    "        EvaluationParameters= {\"NumberOfBacktestWindows\": 1, \n",
    "                               \"BackTestWindowOffset\": 24}, \n",
    "         )"
   ]
  },
  {
   "cell_type": "code",
   "execution_count": 15,
   "metadata": {},
   "outputs": [
    {
     "data": {
      "text/plain": [
       "{'PredictorArn': 'arn:aws:forecast:ap-northeast-2:414501109622:predictor/electricitypredictor3',\n",
       " 'ResponseMetadata': {'RequestId': '3c5ca8b0-8126-4453-9365-d2a639558aec',\n",
       "  'HTTPStatusCode': 200,\n",
       "  'HTTPHeaders': {'content-type': 'application/x-amz-json-1.1',\n",
       "   'date': 'Wed, 01 Apr 2020 07:49:16 GMT',\n",
       "   'x-amzn-requestid': '3c5ca8b0-8126-4453-9365-d2a639558aec',\n",
       "   'content-length': '95',\n",
       "   'connection': 'keep-alive'},\n",
       "  'RetryAttempts': 0}}"
      ]
     },
     "execution_count": 15,
     "metadata": {},
     "output_type": "execute_result"
    }
   ],
   "source": [
    "create_predictor_response"
   ]
  },
  {
   "cell_type": "code",
   "execution_count": null,
   "metadata": {},
   "outputs": [],
   "source": []
  },
  {
   "cell_type": "code",
   "execution_count": 16,
   "metadata": {},
   "outputs": [
    {
     "data": {
      "text/plain": [
       "'arn:aws:forecast:ap-northeast-2:414501109622:predictor/electricitypredictor3'"
      ]
     },
     "execution_count": 16,
     "metadata": {},
     "output_type": "execute_result"
    }
   ],
   "source": [
    "predictor_arn=create_predictor_response['PredictorArn']\n",
    "predictor_arn"
   ]
  },
  {
   "cell_type": "markdown",
   "metadata": {},
   "source": [
    "Check the status of the predictor. When the status change from **CREATE_IN_PROGRESS** to **ACTIVE**, we can continue to next steps. Depending on data size, model selection and hyper parameters，it can take 10 mins to more than one hour to be **ACTIVE**."
   ]
  },
  {
   "cell_type": "code",
   "execution_count": null,
   "metadata": {},
   "outputs": [],
   "source": []
  },
  {
   "cell_type": "code",
   "execution_count": null,
   "metadata": {},
   "outputs": [],
   "source": []
  },
  {
   "cell_type": "code",
   "execution_count": 17,
   "metadata": {},
   "outputs": [
    {
     "name": "stdout",
     "output_type": "stream",
     "text": [
      "CREATE_IN_PROGRESS ..........................................................................................................................................................\n",
      "ACTIVE \n"
     ]
    }
   ],
   "source": [
    "status_indicator = util.StatusIndicator()\n",
    "\n",
    "while True:\n",
    "    status = forecast.describe_predictor(PredictorArn=predictor_arn)['Status']\n",
    "    status_indicator.update(status)\n",
    "    if status in ('ACTIVE', 'CREATE_FAILED'): break\n",
    "    time.sleep(10)\n",
    "\n",
    "status_indicator.end()"
   ]
  },
  {
   "cell_type": "markdown",
   "metadata": {},
   "source": [
    "### Get Error Metrics"
   ]
  },
  {
   "cell_type": "code",
   "execution_count": 19,
   "metadata": {},
   "outputs": [
    {
     "data": {
      "text/plain": [
       "{'PredictorEvaluationResults': [{'AlgorithmArn': 'arn:aws:forecast:::algorithm/Deep_AR_Plus',\n",
       "   'TestWindows': [{'EvaluationType': 'SUMMARY',\n",
       "     'Metrics': {'RMSE': 7.132759657262377,\n",
       "      'WeightedQuantileLosses': [{'Quantile': 0.9,\n",
       "        'LossValue': 0.04120108962382528},\n",
       "       {'Quantile': 0.5, 'LossValue': 0.08554207045872382},\n",
       "       {'Quantile': 0.1, 'LossValue': 0.03793336116491365}]}},\n",
       "    {'TestWindowStart': datetime.datetime(2014, 10, 30, 9, 0, tzinfo=tzlocal()),\n",
       "     'TestWindowEnd': datetime.datetime(2014, 10, 31, 9, 0, tzinfo=tzlocal()),\n",
       "     'ItemCount': 3,\n",
       "     'EvaluationType': 'COMPUTED',\n",
       "     'Metrics': {'RMSE': 7.132759657262378,\n",
       "      'WeightedQuantileLosses': [{'Quantile': 0.9,\n",
       "        'LossValue': 0.041201089623825286},\n",
       "       {'Quantile': 0.5, 'LossValue': 0.08554207045872382},\n",
       "       {'Quantile': 0.1, 'LossValue': 0.03793336116491365}]}}]}],\n",
       " 'ResponseMetadata': {'RequestId': '195c58ee-8f7d-4f65-bd94-7af3e57ff24a',\n",
       "  'HTTPStatusCode': 200,\n",
       "  'HTTPHeaders': {'content-type': 'application/x-amz-json-1.1',\n",
       "   'date': 'Thu, 02 Apr 2020 06:47:50 GMT',\n",
       "   'x-amzn-requestid': '195c58ee-8f7d-4f65-bd94-7af3e57ff24a',\n",
       "   'content-length': '663',\n",
       "   'connection': 'keep-alive'},\n",
       "  'RetryAttempts': 0}}"
      ]
     },
     "execution_count": 19,
     "metadata": {},
     "output_type": "execute_result"
    }
   ],
   "source": [
    "forecast.get_accuracy_metrics(PredictorArn=predictor_arn)"
   ]
  },
  {
   "cell_type": "markdown",
   "metadata": {},
   "source": [
    "## Create a Forecast\n",
    "\n",
    "Now create a forecast using the model that was trained"
   ]
  },
  {
   "cell_type": "code",
   "execution_count": 21,
   "metadata": {},
   "outputs": [],
   "source": [
    "forecastName= project+'_deeparp_algo_forecast'"
   ]
  },
  {
   "cell_type": "code",
   "execution_count": 22,
   "metadata": {},
   "outputs": [],
   "source": [
    "create_forecast_response = \\\n",
    "    forecast.create_forecast(ForecastName=forecastName,\n",
    "                             PredictorArn=predictor_arn)\n",
    "forecast_arn = create_forecast_response['ForecastArn']"
   ]
  },
  {
   "cell_type": "markdown",
   "metadata": {},
   "source": [
    "Check the status of the forecast process, when the status change from **CREATE_IN_PROGRESS** to **ACTIVE**, we can continue to next steps. Depending on data size, model selection and hyper parameters，it can take 10 mins to more than one hour to be **ACTIVE**."
   ]
  },
  {
   "cell_type": "code",
   "execution_count": 23,
   "metadata": {},
   "outputs": [
    {
     "name": "stdout",
     "output_type": "stream",
     "text": [
      "CREATE_PENDING ..\n",
      "CREATE_IN_PROGRESS .................................................................................................................................................................................\n",
      "ACTIVE \n"
     ]
    }
   ],
   "source": [
    "status_indicator = util.StatusIndicator()\n",
    "\n",
    "while True:\n",
    "    status = forecast.describe_forecast(ForecastArn=forecast_arn)['Status']\n",
    "    status_indicator.update(status)\n",
    "    if status in ('ACTIVE', 'CREATE_FAILED'): break\n",
    "    time.sleep(10)\n",
    "\n",
    "status_indicator.end()"
   ]
  },
  {
   "cell_type": "markdown",
   "metadata": {},
   "source": [
    "### Get Forecast"
   ]
  },
  {
   "cell_type": "markdown",
   "metadata": {},
   "source": [
    "Once created, the forecast results are ready and you view them. "
   ]
  },
  {
   "cell_type": "code",
   "execution_count": 24,
   "metadata": {},
   "outputs": [
    {
     "name": "stdout",
     "output_type": "stream",
     "text": [
      "arn:aws:forecast:ap-northeast-2:414501109622:forecast/util_power_forecastdemo_deeparp_algo_forecast\n",
      "\n",
      "{'Forecast': {'Predictions': {'p10': [{'Timestamp': '2014-10-31T00:00:00', 'Value': 40.94285583496094}, {'Timestamp': '2014-10-31T01:00:00', 'Value': 38.1968879699707}, {'Timestamp': '2014-10-31T02:00:00', 'Value': 37.97128677368164}, {'Timestamp': '2014-10-31T03:00:00', 'Value': 30.86043930053711}, {'Timestamp': '2014-10-31T04:00:00', 'Value': 28.626176834106445}, {'Timestamp': '2014-10-31T05:00:00', 'Value': 26.198205947875977}, {'Timestamp': '2014-10-31T06:00:00', 'Value': 28.212310791015625}, {'Timestamp': '2014-10-31T07:00:00', 'Value': 31.498701095581055}, {'Timestamp': '2014-10-31T08:00:00', 'Value': 45.15296936035156}, {'Timestamp': '2014-10-31T09:00:00', 'Value': 112.49766540527344}, {'Timestamp': '2014-10-31T10:00:00', 'Value': 125.12451934814453}, {'Timestamp': '2014-10-31T11:00:00', 'Value': 116.31916809082031}, {'Timestamp': '2014-10-31T12:00:00', 'Value': 126.62701416015625}, {'Timestamp': '2014-10-31T13:00:00', 'Value': 102.737060546875}, {'Timestamp': '2014-10-31T14:00:00', 'Value': 92.71977233886719}, {'Timestamp': '2014-10-31T15:00:00', 'Value': 118.6624526977539}, {'Timestamp': '2014-10-31T16:00:00', 'Value': 119.19549560546875}, {'Timestamp': '2014-10-31T17:00:00', 'Value': 108.6529541015625}, {'Timestamp': '2014-10-31T18:00:00', 'Value': 105.44197845458984}, {'Timestamp': '2014-10-31T19:00:00', 'Value': 95.6343765258789}, {'Timestamp': '2014-10-31T20:00:00', 'Value': 75.77183532714844}, {'Timestamp': '2014-10-31T21:00:00', 'Value': 48.792999267578125}, {'Timestamp': '2014-10-31T22:00:00', 'Value': 37.93732452392578}, {'Timestamp': '2014-10-31T23:00:00', 'Value': 27.47385025024414}], 'p50': [{'Timestamp': '2014-10-31T00:00:00', 'Value': 47.68342590332031}, {'Timestamp': '2014-10-31T01:00:00', 'Value': 43.98499298095703}, {'Timestamp': '2014-10-31T02:00:00', 'Value': 42.98579025268555}, {'Timestamp': '2014-10-31T03:00:00', 'Value': 37.37488555908203}, {'Timestamp': '2014-10-31T04:00:00', 'Value': 33.66246032714844}, {'Timestamp': '2014-10-31T05:00:00', 'Value': 32.39763641357422}, {'Timestamp': '2014-10-31T06:00:00', 'Value': 33.67387008666992}, {'Timestamp': '2014-10-31T07:00:00', 'Value': 37.1820068359375}, {'Timestamp': '2014-10-31T08:00:00', 'Value': 55.64364242553711}, {'Timestamp': '2014-10-31T09:00:00', 'Value': 133.23922729492188}, {'Timestamp': '2014-10-31T10:00:00', 'Value': 162.89572143554688}, {'Timestamp': '2014-10-31T11:00:00', 'Value': 152.97409057617188}, {'Timestamp': '2014-10-31T12:00:00', 'Value': 155.42164611816406}, {'Timestamp': '2014-10-31T13:00:00', 'Value': 132.0463409423828}, {'Timestamp': '2014-10-31T14:00:00', 'Value': 120.54035949707031}, {'Timestamp': '2014-10-31T15:00:00', 'Value': 146.4981231689453}, {'Timestamp': '2014-10-31T16:00:00', 'Value': 148.31195068359375}, {'Timestamp': '2014-10-31T17:00:00', 'Value': 132.42562866210938}, {'Timestamp': '2014-10-31T18:00:00', 'Value': 124.21916961669922}, {'Timestamp': '2014-10-31T19:00:00', 'Value': 115.97188568115234}, {'Timestamp': '2014-10-31T20:00:00', 'Value': 98.8682861328125}, {'Timestamp': '2014-10-31T21:00:00', 'Value': 62.61248016357422}, {'Timestamp': '2014-10-31T22:00:00', 'Value': 46.579833984375}, {'Timestamp': '2014-10-31T23:00:00', 'Value': 38.903472900390625}], 'p90': [{'Timestamp': '2014-10-31T00:00:00', 'Value': 53.1558952331543}, {'Timestamp': '2014-10-31T01:00:00', 'Value': 49.0120964050293}, {'Timestamp': '2014-10-31T02:00:00', 'Value': 49.993839263916016}, {'Timestamp': '2014-10-31T03:00:00', 'Value': 43.7260627746582}, {'Timestamp': '2014-10-31T04:00:00', 'Value': 37.409732818603516}, {'Timestamp': '2014-10-31T05:00:00', 'Value': 39.152652740478516}, {'Timestamp': '2014-10-31T06:00:00', 'Value': 39.51001739501953}, {'Timestamp': '2014-10-31T07:00:00', 'Value': 43.97632598876953}, {'Timestamp': '2014-10-31T08:00:00', 'Value': 65.85248565673828}, {'Timestamp': '2014-10-31T09:00:00', 'Value': 147.6488800048828}, {'Timestamp': '2014-10-31T10:00:00', 'Value': 185.62646484375}, {'Timestamp': '2014-10-31T11:00:00', 'Value': 183.60923767089844}, {'Timestamp': '2014-10-31T12:00:00', 'Value': 184.26712036132812}, {'Timestamp': '2014-10-31T13:00:00', 'Value': 159.53199768066406}, {'Timestamp': '2014-10-31T14:00:00', 'Value': 147.16058349609375}, {'Timestamp': '2014-10-31T15:00:00', 'Value': 177.25543212890625}, {'Timestamp': '2014-10-31T16:00:00', 'Value': 169.11300659179688}, {'Timestamp': '2014-10-31T17:00:00', 'Value': 162.90390014648438}, {'Timestamp': '2014-10-31T18:00:00', 'Value': 155.08811950683594}, {'Timestamp': '2014-10-31T19:00:00', 'Value': 138.8624725341797}, {'Timestamp': '2014-10-31T20:00:00', 'Value': 114.00935363769531}, {'Timestamp': '2014-10-31T21:00:00', 'Value': 72.22283172607422}, {'Timestamp': '2014-10-31T22:00:00', 'Value': 56.91828536987305}, {'Timestamp': '2014-10-31T23:00:00', 'Value': 48.88245391845703}]}}, 'ResponseMetadata': {'RequestId': '241760f9-b9b4-4fc3-a07d-24b620c702ac', 'HTTPStatusCode': 200, 'HTTPHeaders': {'content-type': 'application/x-amz-json-1.1', 'date': 'Thu, 02 Apr 2020 07:24:13 GMT', 'x-amzn-requestid': '241760f9-b9b4-4fc3-a07d-24b620c702ac', 'content-length': '4539', 'connection': 'keep-alive'}, 'RetryAttempts': 0}}\n"
     ]
    }
   ],
   "source": [
    "print(forecast_arn)\n",
    "print()\n",
    "forecastResponse = forecastquery.query_forecast(\n",
    "    ForecastArn=forecast_arn,\n",
    "    Filters={\"item_id\":\"client_12\"}\n",
    ")\n",
    "print(forecastResponse)"
   ]
  },
  {
   "cell_type": "markdown",
   "metadata": {},
   "source": [
    "## Next Steps\n",
    "\n",
    "Now that your forecast has been created, to evaluate it use `3.Evaluating_Your_Predictor.ipynb` but before opening it, execute the cell below to share your variables again with the next notebook."
   ]
  },
  {
   "cell_type": "code",
   "execution_count": 25,
   "metadata": {},
   "outputs": [
    {
     "name": "stdout",
     "output_type": "stream",
     "text": [
      "Stored 'forecast_arn' (str)\n",
      "Stored 'predictor_arn' (str)\n"
     ]
    }
   ],
   "source": [
    "%store forecast_arn\n",
    "%store predictor_arn"
   ]
  },
  {
   "cell_type": "code",
   "execution_count": null,
   "metadata": {},
   "outputs": [],
   "source": []
  }
 ],
 "metadata": {
  "kernelspec": {
   "display_name": "Python 3",
   "language": "python",
   "name": "python3"
  },
  "language_info": {
   "codemirror_mode": {
    "name": "ipython",
    "version": 3
   },
   "file_extension": ".py",
   "mimetype": "text/x-python",
   "name": "python",
   "nbconvert_exporter": "python",
   "pygments_lexer": "ipython3",
   "version": "3.7.3"
  }
 },
 "nbformat": 4,
 "nbformat_minor": 4
}
